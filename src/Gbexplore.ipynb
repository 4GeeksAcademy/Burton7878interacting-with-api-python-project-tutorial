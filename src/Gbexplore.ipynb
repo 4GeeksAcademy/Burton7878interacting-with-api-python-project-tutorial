{
    "cells": [
        {
            "cell_type": "markdown",
            "metadata": {},
            "source": [
                "# Explore here"
            ]
        },
        {
            "cell_type": "code",
            "execution_count": 1,
            "metadata": {},
            "outputs": [],
            "source": [
                "import os\n",
                "import pandas as pd\n",
                "from dotenv import load_dotenv\n",
                "\n",
                "\n",
                "\n",
                "\n",
                "\n",
                "\n"
            ]
        },
        {
            "cell_type": "code",
            "execution_count": 2,
            "metadata": {},
            "outputs": [
                {
                    "data": {
                        "text/plain": [
                            "True"
                        ]
                    },
                    "execution_count": 2,
                    "metadata": {},
                    "output_type": "execute_result"
                }
            ],
            "source": [
                "load_dotenv()"
            ]
        },
        {
            "cell_type": "code",
            "execution_count": 3,
            "metadata": {},
            "outputs": [
                {
                    "name": "stdout",
                    "output_type": "stream",
                    "text": [
                        "Defaulting to user installation because normal site-packages is not writeable\n",
                        "Requirement already satisfied: spotipy in /home/vscode/.local/lib/python3.11/site-packages (2.23.0)\n",
                        "Requirement already satisfied: redis>=3.5.3 in /home/vscode/.local/lib/python3.11/site-packages (from spotipy) (5.2.1)\n",
                        "Requirement already satisfied: requests>=2.25.0 in /home/vscode/.local/lib/python3.11/site-packages (from spotipy) (2.27.1)\n",
                        "Requirement already satisfied: six>=1.15.0 in /home/vscode/.local/lib/python3.11/site-packages (from spotipy) (1.17.0)\n",
                        "Requirement already satisfied: urllib3>=1.26.0 in /home/vscode/.local/lib/python3.11/site-packages (from spotipy) (1.26.20)\n",
                        "Requirement already satisfied: certifi>=2017.4.17 in /home/vscode/.local/lib/python3.11/site-packages (from requests>=2.25.0->spotipy) (2025.1.31)\n",
                        "Requirement already satisfied: charset-normalizer~=2.0.0 in /home/vscode/.local/lib/python3.11/site-packages (from requests>=2.25.0->spotipy) (2.0.12)\n",
                        "Requirement already satisfied: idna<4,>=2.5 in /home/vscode/.local/lib/python3.11/site-packages (from requests>=2.25.0->spotipy) (3.10)\n",
                        "\n",
                        "\u001b[1m[\u001b[0m\u001b[34;49mnotice\u001b[0m\u001b[1;39;49m]\u001b[0m\u001b[39;49m A new release of pip is available: \u001b[0m\u001b[31;49m23.1.2\u001b[0m\u001b[39;49m -> \u001b[0m\u001b[32;49m25.0.1\u001b[0m\n",
                        "\u001b[1m[\u001b[0m\u001b[34;49mnotice\u001b[0m\u001b[1;39;49m]\u001b[0m\u001b[39;49m To update, run: \u001b[0m\u001b[32;49mpip install --upgrade pip\u001b[0m\n"
                    ]
                }
            ],
            "source": [
                "! pip install spotipy"
            ]
        },
        {
            "cell_type": "code",
            "execution_count": 4,
            "metadata": {},
            "outputs": [
                {
                    "name": "stdout",
                    "output_type": "stream",
                    "text": [
                        "{'name': 'NOKIA', 'popularity': 83, 'duration_min': 4.01705}\n",
                        "{'name': 'DIE TRYING', 'popularity': 81, 'duration_min': 3.2571833333333333}\n",
                        "{'name': 'One Dance', 'popularity': 81, 'duration_min': 2.899766666666667}\n",
                        "{'name': 'She Will', 'popularity': 75, 'duration_min': 5.097333333333333}\n",
                        "{'name': 'GIMME A HUG', 'popularity': 79, 'duration_min': 3.2175666666666665}\n",
                        "{'name': 'CN TOWER', 'popularity': 79, 'duration_min': 4.031483333333333}\n",
                        "{'name': 'WAIT FOR U (feat. Drake & Tems)', 'popularity': 79, 'duration_min': 3.1648833333333335}\n",
                        "{'name': 'Passionfruit', 'popularity': 78, 'duration_min': 4.982333333333333}\n",
                        "{'name': \"God's Plan\", 'popularity': 78, 'duration_min': 3.3162166666666666}\n",
                        "{'name': 'Headlines', 'popularity': 77, 'duration_min': 3.9331}\n"
                    ]
                }
            ],
            "source": [
                "import spotipy\n",
                "from spotipy.oauth2 import SpotifyClientCredentials\n",
                "# Set up authentication\n",
                "client_id = \"2a9ba80cdd524af3ab8d6cc4ab396829\"  # Replace with your client ID\n",
                "client_secret = \"1cf9a479b58644c5892765c7a1183cfb\"  # Replace with your client secret\n",
                "credentials = SpotifyClientCredentials(client_id=client_id, client_secret=client_secret)\n",
                "sp = spotipy.Spotify(client_credentials_manager=credentials)\n",
                "artist_id = \"3TVXtAsR1Inumwj472S9r4\"\n",
                "# Get the top tracks for the specified artist\n",
                "response = sp.artist_top_tracks(artist_id)\n",
                "if response:\n",
                "    # Extract the \"tracks\" object from the response\n",
                "    tracks = response[\"tracks\"]\n",
                "    # Select the relevant data for each track\n",
                "    tracks_info = [\n",
                "        {\n",
                "            \"name\": track[\"name\"],\n",
                "            \"popularity\": track[\"popularity\"],\n",
                "            \"duration_min\": (track[\"duration_ms\"] / (1000 * 60))  # Convert duration from ms to minutes\n",
                "        }\n",
                "        for track in tracks\n",
                "    ]\n",
                "    # Optionally, print the tracks info\n",
                "    for track in tracks_info:\n",
                "        print(track)"
            ]
        },
        {
            "cell_type": "code",
            "execution_count": 5,
            "metadata": {},
            "outputs": [
                {
                    "name": "stdout",
                    "output_type": "stream",
                    "text": [
                        "None\n"
                    ]
                }
            ],
            "source": [
                "\n",
                "from dotenv import load_dotenv\n",
                "import os\n",
                "# Load environment variables from .env file\n",
                "load_dotenv()\n",
                "# Access the variables\n",
                "my_variable = os.getenv(\"MY_VARIABLE\")\n",
                "print(my_variable)\n"
            ]
        },
        {
            "cell_type": "code",
            "execution_count": 6,
            "metadata": {},
            "outputs": [],
            "source": [
                "import os\n",
                "from dotenv import load_dotenv\n",
                "load_dotenv()\n",
                "client_id = os.environ.get('CLIENT_ID')\n",
                "client_secret = os.environ.get('CLIENT_SECRET')"
            ]
        },
        {
            "cell_type": "code",
            "execution_count": 7,
            "metadata": {},
            "outputs": [],
            "source": [
                "import spotipy\n",
                "from spotipy.oauth2 import SpotifyClientCredentials\n",
                "con = spotipy.Spotify(auth_manager = SpotifyClientCredentials(client_id = client_id,\n",
                "                                                              client_secret = client_secret))"
            ]
        },
        {
            "cell_type": "code",
            "execution_count": 8,
            "metadata": {},
            "outputs": [
                {
                    "name": "stdout",
                    "output_type": "stream",
                    "text": [
                        "{'name': 'NOKIA', 'popularity': 83, 'duration_min': 4.01705}\n",
                        "{'name': 'DIE TRYING', 'popularity': 81, 'duration_min': 3.2571833333333333}\n",
                        "{'name': 'One Dance', 'popularity': 81, 'duration_min': 2.899766666666667}\n",
                        "{'name': 'She Will', 'popularity': 75, 'duration_min': 5.097333333333333}\n",
                        "{'name': 'GIMME A HUG', 'popularity': 79, 'duration_min': 3.2175666666666665}\n",
                        "{'name': 'CN TOWER', 'popularity': 79, 'duration_min': 4.031483333333333}\n",
                        "{'name': 'WAIT FOR U (feat. Drake & Tems)', 'popularity': 79, 'duration_min': 3.1648833333333335}\n",
                        "{'name': 'Passionfruit', 'popularity': 78, 'duration_min': 4.982333333333333}\n",
                        "{'name': \"God's Plan\", 'popularity': 78, 'duration_min': 3.3162166666666666}\n",
                        "{'name': 'Headlines', 'popularity': 77, 'duration_min': 3.9331}\n"
                    ]
                }
            ],
            "source": [
                "artist_id = \"3TVXtAsR1Inumwj472S9r4\"\n",
                "# Get the top tracks for the specified artist\n",
                "response = sp.artist_top_tracks(artist_id)\n",
                "if response:\n",
                "    # Extract the \"tracks\" object from the response\n",
                "    tracks = response[\"tracks\"]\n",
                "    # Select the relevant data for each track\n",
                "    tracks_info = [\n",
                "        {\n",
                "            \"name\": track[\"name\"],\n",
                "            \"popularity\": track[\"popularity\"],\n",
                "            \"duration_min\": (track[\"duration_ms\"] / (1000 * 60))  # Convert duration from ms to minutes\n",
                "        }\n",
                "        for track in tracks\n",
                "    ]\n",
                "    # Optionally, print the tracks info\n",
                "    for track in tracks_info:\n",
                "        print(track)"
            ]
        },
        {
            "cell_type": "code",
            "execution_count": 9,
            "metadata": {},
            "outputs": [
                {
                    "name": "stdout",
                    "output_type": "stream",
                    "text": [
                        "                                               album  \\\n",
                        "3  {'album_type': 'album', 'artists': [{'external...   \n",
                        "9  {'album_type': 'album', 'artists': [{'external...   \n",
                        "8  {'album_type': 'album', 'artists': [{'external...   \n",
                        "\n",
                        "                                             artists  \\\n",
                        "3  [{'external_urls': {'spotify': 'https://open.s...   \n",
                        "9  [{'external_urls': {'spotify': 'https://open.s...   \n",
                        "8  [{'external_urls': {'spotify': 'https://open.s...   \n",
                        "\n",
                        "                                   available_markets  disc_number  \\\n",
                        "3  [AR, AU, AT, BE, BO, BR, BG, CA, CL, CO, CR, C...            1   \n",
                        "9  [AR, AU, AT, BE, BO, BR, BG, CA, CL, CO, CR, C...            1   \n",
                        "8  [AR, AU, AT, BE, BO, BR, BG, CA, CL, CO, CR, C...            1   \n",
                        "\n",
                        "   duration_ms  explicit              external_ids  \\\n",
                        "3       305840      True  {'isrc': 'USCM51100309'}   \n",
                        "9       235986      True  {'isrc': 'USCM51100290'}   \n",
                        "8       198973      True  {'isrc': 'USCM51800004'}   \n",
                        "\n",
                        "                                       external_urls  \\\n",
                        "3  {'spotify': 'https://open.spotify.com/track/0b...   \n",
                        "9  {'spotify': 'https://open.spotify.com/track/6L...   \n",
                        "8  {'spotify': 'https://open.spotify.com/track/6D...   \n",
                        "\n",
                        "                                                href                      id  \\\n",
                        "3  https://api.spotify.com/v1/tracks/0b4M7hd7mzLT...  0b4M7hd7mzLTm99MrMeZsp   \n",
                        "9  https://api.spotify.com/v1/tracks/6LxSe8YmdPxy...  6LxSe8YmdPxy095Ux6znaQ   \n",
                        "8  https://api.spotify.com/v1/tracks/6DCZcSspjsKo...  6DCZcSspjsKoFjzjrWoCdn   \n",
                        "\n",
                        "   is_local  is_playable        name  popularity preview_url  track_number  \\\n",
                        "3     False         True    She Will          75        None             6   \n",
                        "9     False         True   Headlines          77        None             3   \n",
                        "8     False         True  God's Plan          78        None             5   \n",
                        "\n",
                        "    type                                   uri  \n",
                        "3  track  spotify:track:0b4M7hd7mzLTm99MrMeZsp  \n",
                        "9  track  spotify:track:6LxSe8YmdPxy095Ux6znaQ  \n",
                        "8  track  spotify:track:6DCZcSspjsKoFjzjrWoCdn  \n"
                    ]
                }
            ],
            "source": [
                "import pandas as pd\n",
                "tracks_df = pd.DataFrame.from_records(tracks)\n",
                "tracks_df.sort_values([\"popularity\"], inplace = True)\n",
                "print(tracks_df.head(3))"
            ]
        },
        {
            "cell_type": "code",
            "execution_count": 11,
            "metadata": {},
            "outputs": [
                {
                    "data": {
                        "image/png": "[encoded data removed]",
                        "text/plain": [
                            "<Figure size 640x480 with 1 Axes>"
                        ]
                    },
                    "metadata": {},
                    "output_type": "display_data"
                }
            ],
            "source": [
                "import pandas as pd\n",
                "import seaborn as sns\n",
                "import matplotlib.pyplot as plt\n",
                "# Data with durations in milliseconds (as per teacher's solution, 'duration_ms')\n",
                "tracks_info = [\n",
                "    {'name': 'One Dance', 'popularity': 85, 'duration_ms': 2.899766666666667 * 60 * 1000},\n",
                "    {'name': 'WAIT FOR U (feat. Drake & Tems)', 'popularity': 82, 'duration_ms': 3.1648833333333335 * 60 * 1000},\n",
                "    {'name': \"God's Plan\", 'popularity': 81, 'duration_ms': 3.3162166666666666 * 60 * 1000},\n",
                "    {'name': 'Jimmy Cooks (feat. 21 Savage)', 'popularity': 80, 'duration_ms': 3.6394 * 60 * 1000},\n",
                "    {'name': 'Passionfruit', 'popularity': 80, 'duration_ms': 4.982333333333333 * 60 * 1000},\n",
                "    {'name': 'Circadian Rhythm', 'popularity': 80, 'duration_ms': 2.105933333333333 * 60 * 1000},\n",
                "    {'name': 'Rich Baby Daddy (feat. Sexyy Red & SZA)', 'popularity': 79, 'duration_ms': 5.31985 * 60 * 1000},\n",
                "    {'name': 'No Face', 'popularity': 79, 'duration_ms': 2.2857 * 60 * 1000},\n",
                "    {'name': \"It's Up (feat. Young Thug & 21 Savage)\", 'popularity': 78, 'duration_ms': 4.633333333333334 * 60 * 1000},\n",
                "    {'name': 'Fair Trade (with Travis Scott)', 'popularity': 78, 'duration_ms': 4.852916666666666 * 60 * 1000}\n",
                "]\n",
                "# Convert the list of dictionaries to a pandas DataFrame\n",
                "tracks_df = pd.DataFrame(tracks_info)\n",
                "# Sort the dataframe by popularity\n",
                "tracks_df.sort_values([\"popularity\"], inplace=True)\n",
                "# Create the scatter plot using seaborn with no extra customization\n",
                "scatter_plot = sns.scatterplot(data=tracks_df, x=\"popularity\", y=\"duration_ms\")\n",
                "# Save the figure as a PNG file\n",
                "fig = scatter_plot.get_figure()\n",
                "fig.savefig(\"scatter_plot.png\")\n",
                "# Show the plot\n",
                "plt.show()"
            ]
        }
    ],
    "metadata": {
        "kernelspec": {
            "display_name": "Python 3",
            "language": "python",
            "name": "python3"
        },
        "language_info": {
            "codemirror_mode": {
                "name": "ipython",
                "version": 3
            },
            "file_extension": ".py",
            "mimetype": "text/x-python",
            "name": "python",
            "nbconvert_exporter": "python",
            "pygments_lexer": "ipython3",
            "version": "3.11.4"
        },
        "orig_nbformat": 4
    },
    "nbformat": 4,
    "nbformat_minor": 2
}
